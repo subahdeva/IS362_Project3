{
 "cells": [
  {
   "cell_type": "code",
   "execution_count": 20,
   "metadata": {},
   "outputs": [
    {
     "data": {
      "text/html": [
       "<div>\n",
       "<style scoped>\n",
       "    .dataframe tbody tr th:only-of-type {\n",
       "        vertical-align: middle;\n",
       "    }\n",
       "\n",
       "    .dataframe tbody tr th {\n",
       "        vertical-align: top;\n",
       "    }\n",
       "\n",
       "    .dataframe thead th {\n",
       "        text-align: right;\n",
       "    }\n",
       "</style>\n",
       "<table border=\"1\" class=\"dataframe\">\n",
       "  <thead>\n",
       "    <tr style=\"text-align: right;\">\n",
       "      <th></th>\n",
       "      <th>LastName</th>\n",
       "      <th>FirstName</th>\n",
       "      <th>Name</th>\n",
       "      <th>Title</th>\n",
       "    </tr>\n",
       "  </thead>\n",
       "  <tbody>\n",
       "    <tr>\n",
       "      <th>0</th>\n",
       "      <td>Almeida</td>\n",
       "      <td>Roberto</td>\n",
       "      <td>Amor De Muito</td>\n",
       "      <td>Afrociberdelia</td>\n",
       "    </tr>\n",
       "    <tr>\n",
       "      <th>1</th>\n",
       "      <td>Almeida</td>\n",
       "      <td>Roberto</td>\n",
       "      <td>Aos Leões</td>\n",
       "      <td>Demorou...</td>\n",
       "    </tr>\n",
       "    <tr>\n",
       "      <th>2</th>\n",
       "      <td>Almeida</td>\n",
       "      <td>Roberto</td>\n",
       "      <td>Banditismo Por Uma Questa</td>\n",
       "      <td>Da Lama Ao Caos</td>\n",
       "    </tr>\n",
       "    <tr>\n",
       "      <th>3</th>\n",
       "      <td>Almeida</td>\n",
       "      <td>Roberto</td>\n",
       "      <td>Be Good Johnny</td>\n",
       "      <td>The Best Of Men At Work</td>\n",
       "    </tr>\n",
       "    <tr>\n",
       "      <th>4</th>\n",
       "      <td>Almeida</td>\n",
       "      <td>Roberto</td>\n",
       "      <td>Burden In My Hand</td>\n",
       "      <td>A-Sides</td>\n",
       "    </tr>\n",
       "  </tbody>\n",
       "</table>\n",
       "</div>"
      ],
      "text/plain": [
       "  LastName FirstName                       Name                    Title\n",
       "0  Almeida   Roberto              Amor De Muito           Afrociberdelia\n",
       "1  Almeida   Roberto                  Aos Leões               Demorou...\n",
       "2  Almeida   Roberto  Banditismo Por Uma Questa          Da Lama Ao Caos\n",
       "3  Almeida   Roberto             Be Good Johnny  The Best Of Men At Work\n",
       "4  Almeida   Roberto          Burden In My Hand                  A-Sides"
      ]
     },
     "execution_count": 20,
     "metadata": {},
     "output_type": "execute_result"
    }
   ],
   "source": [
    "import pandas as pd\n",
    "import sqlalchemy as sqla\n",
    "from sqlalchemy import create_engine\n",
    "\n",
    "sql = '''\n",
    "SELECT Customer.Lastname, Customer.FirstName, Track.name, Album.title\n",
    "FROM Customer\n",
    "    JOIN INVOICE\n",
    "        ON Customer.CustomerId = Invoice.CustomerId\n",
    "    JOIN InvoiceLine\n",
    "        ON Invoice.InvoiceId = InvoiceLine.InvoiceId\n",
    "    JOIN Track\n",
    "        ON InvoiceLine.TrackId = Track.TrackId\n",
    "    JOIN ALBUM\n",
    "        ON Track.AlbumId = Album.AlbumId\n",
    "ORDER BY Customer.LastName, Customer.FirstName, Track.name, Album.title'''\n",
    "\n",
    "db = sqla.create_engine('sqlite:///Chinook.sqlite')\n",
    "pd.read_sql(sql, db).head(5)"
   ]
  },
  {
   "cell_type": "code",
   "execution_count": null,
   "metadata": {},
   "outputs": [],
   "source": []
  }
 ],
 "metadata": {
  "kernelspec": {
   "display_name": "Python 3",
   "language": "python",
   "name": "python3"
  },
  "language_info": {
   "codemirror_mode": {
    "name": "ipython",
    "version": 3
   },
   "file_extension": ".py",
   "mimetype": "text/x-python",
   "name": "python",
   "nbconvert_exporter": "python",
   "pygments_lexer": "ipython3",
   "version": "3.8.5"
  }
 },
 "nbformat": 4,
 "nbformat_minor": 4
}
